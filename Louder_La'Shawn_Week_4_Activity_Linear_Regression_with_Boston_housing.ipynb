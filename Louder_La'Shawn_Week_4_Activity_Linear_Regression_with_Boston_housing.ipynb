{
  "nbformat": 4,
  "nbformat_minor": 0,
  "metadata": {
    "colab": {
      "provenance": [],
      "mount_file_id": "1FVKTsvAjbezFRufvTSJ7YCu3_nX_879e",
      "authorship_tag": "ABX9TyNKwIhxnmdwmtdUOOJ0SOSt",
      "include_colab_link": true
    },
    "kernelspec": {
      "name": "python3",
      "display_name": "Python 3"
    },
    "language_info": {
      "name": "python"
    }
  },
  "cells": [
    {
      "cell_type": "markdown",
      "metadata": {
        "id": "view-in-github",
        "colab_type": "text"
      },
      "source": [
        "<a href=\"https://colab.research.google.com/github/Just-Louder/CSC481HomeworkNO/blob/main/Louder_La'Shawn_Week_4_Activity_Linear_Regression_with_Boston_housing.ipynb\" target=\"_parent\"><img src=\"https://colab.research.google.com/assets/colab-badge.svg\" alt=\"Open In Colab\"/></a>"
      ]
    },
    {
      "cell_type": "code",
      "execution_count": null,
      "metadata": {
        "id": "-Mhb5UdwWfON"
      },
      "outputs": [],
      "source": [
        "import pandas as pd\n",
        "import matplotlib.pyplot as plt\n",
        "\n",
        "from sklearn import datasets, model_selection\n",
        "from sklearn.model_selection import train_test_split\n",
        "from sklearn.metrics import r2_score\n",
        "from sklearn.metrics import mean_squared_error, mean_absolute_error\n",
        "from sklearn.linear_model import LinearRegression\n",
        "\n"
      ]
    },
    {
      "cell_type": "code",
      "source": [
        "df = pd.read_csv(\"BostonHousing.csv\")\n",
        "df.head()"
      ],
      "metadata": {
        "id": "0_Gef9b0WgJx"
      },
      "execution_count": null,
      "outputs": []
    },
    {
      "cell_type": "code",
      "source": [],
      "metadata": {
        "id": "anO7XqEIXxxE"
      },
      "execution_count": null,
      "outputs": []
    },
    {
      "cell_type": "code",
      "source": [
        "df = df.rename(columns={'medv': \"TARGET\",'rm': 'RM', 'lstat': 'LSTAT'})"
      ],
      "metadata": {
        "id": "EqvJmEFCXhi5"
      },
      "execution_count": null,
      "outputs": []
    },
    {
      "cell_type": "code",
      "source": [
        "df[[\"LSTAT\", \"RM\", \"TARGET\"]].head()\n",
        "df.head()"
      ],
      "metadata": {
        "id": "32kw2tQHX7rI"
      },
      "execution_count": null,
      "outputs": []
    },
    {
      "cell_type": "code",
      "source": [
        "plt.figure(figsize=(8,4))\n",
        "\n",
        "features = df[[\"LSTAT\", \"RM\"]]\n",
        "target= df[[\"TARGET\"]]\n",
        "\n",
        "features = df[[\"LSTAT\", \"RM\"]]\n",
        "target = df[\"TARGET\"]\n",
        "\n",
        "plt.subplot(1,2,1)\n",
        "plt.scatter(df[\"LSTAT\"], target)\n",
        "plt.xlabel(\"LSTAT\")\n",
        "plt.ylabel(\"target\")\n",
        "\n",
        "\n",
        "plt.subplot(1,2,2)\n",
        "plt.scatter(df[\"RM\"], target)\n",
        "plt.xlabel(\"RM\")\n",
        "plt.ylabel(\"target\")\n",
        "\n",
        "plt.show()"
      ],
      "metadata": {
        "id": "u7iiVAs2Yq7z"
      },
      "execution_count": null,
      "outputs": []
    },
    {
      "cell_type": "code",
      "source": [
        "X_train, X_test, y_train, y_test = train_test_split(features, target, test_size=0.2, random_state = 23)"
      ],
      "metadata": {
        "id": "7QzhsadWZ6ac"
      },
      "execution_count": null,
      "outputs": []
    },
    {
      "cell_type": "code",
      "source": [
        "from sklearn.linear_model import LinearRegression"
      ],
      "metadata": {
        "id": "LrWcYIqea-bz"
      },
      "execution_count": null,
      "outputs": []
    },
    {
      "cell_type": "code",
      "source": [
        "model = LinearRegression()"
      ],
      "metadata": {
        "id": "9X12VMc3bKXh"
      },
      "execution_count": null,
      "outputs": []
    },
    {
      "cell_type": "code",
      "source": [
        "model.fit(X_train, y_train)\n",
        "y_pred = model.predict(X_test)"
      ],
      "metadata": {
        "id": "FgUgd6NkbOwU"
      },
      "execution_count": null,
      "outputs": []
    },
    {
      "cell_type": "code",
      "source": [
        "intercept = model.intercept_\n",
        "coff = model.coef_"
      ],
      "metadata": {
        "id": "bEy4LGxucFUj"
      },
      "execution_count": null,
      "outputs": []
    },
    {
      "cell_type": "code",
      "source": [
        "intercept"
      ],
      "metadata": {
        "id": "PDRJjtzmcVSb"
      },
      "execution_count": null,
      "outputs": []
    },
    {
      "cell_type": "code",
      "source": [
        "coff"
      ],
      "metadata": {
        "id": "exhwW_TccYBh"
      },
      "execution_count": null,
      "outputs": []
    },
    {
      "cell_type": "code",
      "source": [
        "plt.figure(figsize=(10,4))\n",
        "plt.scatter(y_test, y_pred)\n",
        "plt.plot([0,50], [0,50], '--k', label='Correct prediction')\n",
        "plt.xlabel(\"Actual y\")\n",
        "plt.ylabel(\"Predicated y\")\n",
        "plt.show()"
      ],
      "metadata": {
        "id": "0TuROF0qbZsN"
      },
      "execution_count": null,
      "outputs": []
    },
    {
      "cell_type": "code",
      "source": [
        "# Evaluate the model's performance\n",
        "\n",
        "mse = mean_squared_error(y_test,y_pred)\n",
        "print(\"Mean Square Error:\", mse)\n",
        "\n",
        "mae = mean_absolute_error(y_test, y_pred)\n",
        "print(\"Mean Absolute Error:\", mae)\n",
        "\n",
        "r2 = r2_score(y_test, y_pred)\n",
        "print(\"R2                  :\", r2)"
      ],
      "metadata": {
        "id": "16mvfeylbunv"
      },
      "execution_count": null,
      "outputs": []
    },
    {
      "cell_type": "code",
      "source": [
        "new_houses_data = {\n",
        "    \"LSTAT\": [5.0,4.0,15.0],\n",
        "    \"RM\": [7,6,8]\n",
        "}\n",
        "\n",
        "new_houses_df = pd.DataFrame(new_houses_data)\n",
        "new_houses_df"
      ],
      "metadata": {
        "id": "oMgRFJCKeI-L"
      },
      "execution_count": null,
      "outputs": []
    },
    {
      "cell_type": "code",
      "source": [
        "predicted_houses_prices = model.predict(new_houses_df)\n",
        "predicted_houses_prices"
      ],
      "metadata": {
        "id": "u6VJtjBXf0uf"
      },
      "execution_count": null,
      "outputs": []
    },
    {
      "cell_type": "code",
      "source": [
        "new_houses_df[\"Predicited Prices\"] = predicted_houses_prices\n",
        "new_houses_df"
      ],
      "metadata": {
        "id": "Js6R9MmMgspj"
      },
      "execution_count": null,
      "outputs": []
    },
    {
      "cell_type": "code",
      "source": [],
      "metadata": {
        "id": "Ssa-15kZg4si"
      },
      "execution_count": null,
      "outputs": []
    }
  ]
}